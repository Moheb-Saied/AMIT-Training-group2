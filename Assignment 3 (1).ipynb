{
 "cells": [
  {
   "cell_type": "markdown",
   "metadata": {},
   "source": [
    "# Assignment 3"
   ]
  },
  {
   "cell_type": "markdown",
   "metadata": {},
   "source": [
    "### Write a function to count the number 4 in a given list."
   ]
  },
  {
   "cell_type": "code",
   "execution_count": 4,
   "metadata": {},
   "outputs": [
    {
     "name": "stdout",
     "output_type": "stream",
     "text": [
      "3\n"
     ]
    }
   ],
   "source": [
    "def count(num):\n",
    "    \n",
    "    count = 0\n",
    "    \n",
    "    for i in num:\n",
    "        \n",
    "        if i == 4:\n",
    "            \n",
    "            count = count + 1\n",
    "            \n",
    "    return count\n",
    "\n",
    "print(count([1, 2, 4, 5, 6, 4, 5, 4, 10]))"
   ]
  },
  {
   "cell_type": "markdown",
   "metadata": {},
   "source": [
    "### write a  function to check whether a number is divisible by another number."
   ]
  },
  {
   "cell_type": "code",
   "execution_count": 5,
   "metadata": {},
   "outputs": [
    {
     "name": "stdout",
     "output_type": "stream",
     "text": [
      "True\n"
     ]
    }
   ],
   "source": [
    "def divisible(a, b):\n",
    "    \n",
    "    if a % b == 0:\n",
    "        \n",
    "        return True\n",
    "    \n",
    "    else:\n",
    "        \n",
    "        False\n",
    "\n",
    "print(divisible(35, 7))"
   ]
  },
  {
   "cell_type": "markdown",
   "metadata": {},
   "source": [
    "### write a function to find the maximum and minimum numbers from a sequence of numbers."
   ]
  },
  {
   "cell_type": "code",
   "execution_count": 3,
   "metadata": {},
   "outputs": [
    {
     "name": "stdout",
     "output_type": "stream",
     "text": [
      "(96, -39)\n"
     ]
    }
   ],
   "source": [
    "def max_min(nums):\n",
    "    \n",
    "    max = nums[0]\n",
    "    \n",
    "    min = nums[0]\n",
    "    \n",
    "    for i in nums:\n",
    "        \n",
    "        if i > max:\n",
    "            \n",
    "            max = i\n",
    "            \n",
    "        elif i < min:\n",
    "            \n",
    "            min = i \n",
    "            \n",
    "    return max , min\n",
    "    \n",
    "print(max_min([0, 2, 4, 88, 9, -39, 45, 96, 5, -3, 12]))"
   ]
  },
  {
   "cell_type": "markdown",
   "metadata": {},
   "source": [
    " Write a Python function that takes two lists and returns True if they have at least one common member."
   ]
  },
  {
   "cell_type": "code",
   "execution_count": 11,
   "metadata": {},
   "outputs": [
    {
     "name": "stdout",
     "output_type": "stream",
     "text": [
      "True\n"
     ]
    }
   ],
   "source": [
    "def common(list1, list2):\n",
    "    \n",
    "    result = False\n",
    "    \n",
    "    for x in list1:\n",
    "        \n",
    "         for y in list2:\n",
    "                \n",
    "                if x == y:\n",
    "                    \n",
    "                    result = True\n",
    "                    \n",
    "                    return result\n",
    "                \n",
    "print(common([0,21,43,55,78], [7,34,23,55]))"
   ]
  },
  {
   "cell_type": "markdown",
   "metadata": {},
   "source": [
    "### Write a Python function to calculate the factorial of a number (a non-negative integer). The function accepts the number from the user"
   ]
  },
  {
   "cell_type": "code",
   "execution_count": 13,
   "metadata": {},
   "outputs": [
    {
     "name": "stdout",
     "output_type": "stream",
     "text": [
      "Enter a number to calculate the factiorial 5\n",
      "120\n"
     ]
    }
   ],
   "source": [
    "def factorial(num):\n",
    "    \n",
    "    if num == 0:\n",
    "        \n",
    "        return 1\n",
    "    \n",
    "    else:\n",
    "        \n",
    "        return num * factorial(num-1)\n",
    "    \n",
    "num = int(input(\"Enter a number to calculate the factiorial \"))\n",
    "\n",
    "print(factorial(num))"
   ]
  },
  {
   "cell_type": "markdown",
   "metadata": {},
   "source": [
    "Write a Python function to check whether a number is in a given range.\n",
    "\n",
    "The range is from 3 to 11\n"
   ]
  },
  {
   "cell_type": "code",
   "execution_count": 9,
   "metadata": {},
   "outputs": [
    {
     "name": "stdout",
     "output_type": "stream",
     "text": [
      "The number is outside the given range\n"
     ]
    }
   ],
   "source": [
    "def n_range(n):\n",
    "    \n",
    "    if n in range(3,11):\n",
    "        \n",
    "        print( \" {} is in the range\".format(n))\n",
    "        \n",
    "    else :\n",
    "        \n",
    "        print(\"The number is outside the given range\")\n",
    "        \n",
    "n_range(12)"
   ]
  },
  {
   "cell_type": "markdown",
   "metadata": {},
   "source": [
    "Write a  program to create the multiplication table (from 1 to 10) of a number."
   ]
  },
  {
   "cell_type": "code",
   "execution_count": 6,
   "metadata": {},
   "outputs": [
    {
     "name": "stdout",
     "output_type": "stream",
     "text": [
      "Enter a number: 5\n",
      "5\n",
      "10\n",
      "15\n",
      "20\n",
      "25\n",
      "30\n",
      "35\n",
      "40\n",
      "45\n",
      "50\n"
     ]
    }
   ],
   "source": [
    "n = int(input(\"Enter a number: \"))\n",
    "\n",
    "\n",
    "for i in range(1,11):\n",
    "    \n",
    "    print(n*i)"
   ]
  },
  {
   "cell_type": "markdown",
   "metadata": {},
   "source": [
    "LESSER OF TWO EVENS: Write a function that returns the lesser of two given numbers *if* both numbers are even, but returns the greater if one or both numbers are odd\n",
    "    lesser_of_two_evens(2,4) --> 2\n",
    "    lesser_of_two_evens(2,5) --> 5"
   ]
  },
  {
   "cell_type": "code",
   "execution_count": 32,
   "metadata": {},
   "outputs": [
    {
     "data": {
      "text/plain": [
       "11"
      ]
     },
     "execution_count": 32,
     "metadata": {},
     "output_type": "execute_result"
    }
   ],
   "source": [
    "def lesser_of_two_evens(a,b): \n",
    "    \n",
    "    if a % 2 == 0 and b % 2 == 0:\n",
    "        \n",
    "        return min(a,b)\n",
    "    \n",
    "    else:\n",
    "        \n",
    "        return max(a,b)\n",
    "\n",
    "    \n",
    "lesser_of_two_evens(6, 11)    "
   ]
  },
  {
   "cell_type": "code",
   "execution_count": null,
   "metadata": {},
   "outputs": [],
   "source": []
  }
 ],
 "metadata": {
  "kernelspec": {
   "display_name": "Python 3",
   "language": "python",
   "name": "python3"
  },
  "language_info": {
   "codemirror_mode": {
    "name": "ipython",
    "version": 3
   },
   "file_extension": ".py",
   "mimetype": "text/x-python",
   "name": "python",
   "nbconvert_exporter": "python",
   "pygments_lexer": "ipython3",
   "version": "3.6.5"
  }
 },
 "nbformat": 4,
 "nbformat_minor": 2
}
